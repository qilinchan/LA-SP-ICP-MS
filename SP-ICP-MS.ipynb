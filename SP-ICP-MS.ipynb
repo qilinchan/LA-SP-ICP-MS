{
 "cells": [
  {
   "cell_type": "code",
   "execution_count": 7,
   "metadata": {},
   "outputs": [
    {
     "name": "stdout",
     "output_type": "stream",
     "text": [
      "C:/Users/ta/Desktop/treated_Siwafer/test1.csv\n",
      "Au-ENP 60nm BBI Solution    16.305028\n",
      "Zero_column(temp)            0.000000\n",
      "dtype: float64\n",
      "       Au-ENP 60nm BBI Solution  Zero_column(temp)\n",
      "count              19632.000000            19905.0\n",
      "mean                  16.305028                0.0\n",
      "std                  329.214229                0.0\n",
      "min                    0.000000                0.0\n",
      "25%                    0.000000                0.0\n",
      "50%                    0.000000                0.0\n",
      "75%                    0.000000                0.0\n",
      "max                15010.000000                0.0\n",
      "       Au-ENP 60nm BBI Solution  Zero_column(temp)\n",
      "count                273.000000                0.0\n",
      "mean               38493.846154                NaN\n",
      "std                13958.057743                NaN\n",
      "min                16350.000000                NaN\n",
      "25%                30380.000000                NaN\n",
      "50%                36740.000000                NaN\n",
      "75%                44440.000000                NaN\n",
      "max               180800.000000                NaN 38493.846153846156\n",
      "Au-ENP 60nm BBI Solution    0.029757\n",
      "Zero_column(temp)           0.000000\n",
      "dtype: float64\n",
      "Au-ENP 60nm BBI Solution    273\n",
      "Zero_column(temp)             0\n",
      "dtype: int64\n",
      "       Au-ENP 60nm BBI Solution  Zero_column(temp)\n",
      "count                273.000000                0.0\n",
      "mean                   2.180000                NaN\n",
      "std                    0.790479                NaN\n",
      "min                    0.925940                NaN\n",
      "25%                    1.720493                NaN\n",
      "50%                    2.080675                NaN\n",
      "75%                    2.516745                NaN\n",
      "max                   10.239143                NaN\n",
      "       Au-ENP 60nm BBI Solution  Zero_column(temp)\n",
      "count                273.000000                0.0\n",
      "mean                  60.041812                NaN\n",
      "std                    6.254942                NaN\n",
      "min                   45.648691                NaN\n",
      "25%                   56.108498                NaN\n",
      "50%                   59.774817                NaN\n",
      "75%                   63.684783                NaN\n",
      "max                  101.618784                NaN\n",
      "Au-ENP 60nm BBI Solution   NaN\n",
      "Zero_column(temp)          NaN\n",
      "dtype: float64\n"
     ]
    },
    {
     "data": {
      "image/png": "[encoded data removed]",
      "text/plain": [
       "<Figure size 432x288 with 1 Axes>"
      ]
     },
     "metadata": {},
     "output_type": "display_data"
    },
    {
     "data": {
      "image/png": "[encoded data removed]",
      "text/plain": [
       "<Figure size 432x288 with 1 Axes>"
      ]
     },
     "metadata": {},
     "output_type": "display_data"
    },
    {
     "data": {
      "text/plain": [
       "<Figure size 432x288 with 0 Axes>"
      ]
     },
     "metadata": {},
     "output_type": "display_data"
    },
    {
     "data": {
      "text/plain": [
       "<Figure size 432x288 with 0 Axes>"
      ]
     },
     "metadata": {},
     "output_type": "display_data"
    }
   ],
   "source": [
    "import pandas as pd \n",
    "import matplotlib.pyplot as plt\n",
    "import numpy as np\n",
    "import seaborn as sns\n",
    "from scipy import stats\n",
    "from tkinter import Tk\n",
    "from tkinter.filedialog import askopenfilename\n",
    "\n",
    "#select input file\n",
    "Tk().withdraw() # we don't want a full GUI, so keep the root window from appearing\n",
    "file = str(askopenfilename()) # show an \"Open\" dialog box and return the path to the selected file\n",
    "print(file)\n",
    "\n",
    "#file = pd.read_csv(\"C:/Users/ta/Desktop/treated_Siwafer/test1.csv\")\n",
    "file = pd.read_csv(file)\n",
    "\n",
    "#elemental density (g/ml)\n",
    "\n",
    "Au = 19.3\n",
    "Ag = 10.49\n",
    "TiO2 = 4.23\n",
    "\n",
    "#particle mass concentraiton\n",
    "mass_con = 50 # ng/L\n",
    "\n",
    "#particle diameter\n",
    "\n",
    "diameter = 60 # nm\n",
    "\n",
    "# variables of experiment \n",
    "sample_flow = 0.4 # ml/min\n",
    "dwell_time = 2  # ms \n",
    "\n",
    "# response factor from calibration sheet(this is currently done manually)\n",
    "#simply input the slope of the best fit line from the your calibration sheet\n",
    "response = 48467 # cps/(ug/L)\n",
    " \n",
    "#limit for particle detection\n",
    "limit = 16205\n",
    "\n",
    "# defines background based on cps limit set point \n",
    "def background():\n",
    "    background = file\n",
    "    \n",
    "    background = background[~(background >= limit)]\n",
    "    \n",
    "    df_mean = background.mean()\n",
    "    print(df_mean)\n",
    "    print(background.describe())\n",
    "    \n",
    "    return background , df_mean\n",
    "\n",
    "df_background, df_mean = background()\n",
    "\n",
    "def particles():\n",
    "    particles = file.where(file >= limit)\n",
    "    particles_mean = particles.mean()\n",
    "    particles_mean1 = particles.iloc[:,0].mean()\n",
    "    particles_mean2 = particles.iloc[:,1].mean()\n",
    "    print(particles.describe(), particles_mean1)\n",
    "    \n",
    "    return particles, particles_mean1, particles_mean2 , particles_mean\n",
    "\n",
    "    \n",
    "df_particles, df_particles_mean, df_particles_mean1, df_particles_mean2 = particles()\n",
    "\n",
    "def transport_effieceny():\n",
    "    transport = df_particles.count()\n",
    "    x_trans = transport \n",
    "    x_cal = x_trans/((mass_con*1000/2.18)*sample_flow)\n",
    "    print(x_cal)\n",
    "    print(x_trans)\n",
    "    return x_cal\n",
    "trasnport = transport_effieceny()\n",
    "\n",
    "def particle_mass ():\n",
    "    y = df_particles_mean\n",
    "    particle_mass = df_particles.apply(lambda x: x/y*(2.18))\n",
    "    print(particle_mass.describe())\n",
    "    return particle_mass\n",
    "df_particle_mass = particle_mass()\n",
    "\n",
    "\n",
    "mean = df_particles_mean \n",
    "def size_diameter():\n",
    "    x_1 = df_particle_mass\n",
    "    x_1 = x_1.apply(lambda x: ((6*x/1000000000000000/3.14/19.3)**0.333)*10000000)\n",
    "   \n",
    "    #x_1.to_csv(\"C:/Users/ta/Desktop/treated_Siwafer/test2_size_out2.csv\")\n",
    "    \n",
    "    print(x_1.describe())\n",
    "    return x_1\n",
    "\n",
    "\n",
    "df_size_diameter = size_diameter()\n",
    "\n",
    "df_size_diameter.iloc[:,0].hist(bins=100)\n",
    "plt.figure()\n",
    "\n",
    "\n",
    "\n",
    "sns.set(style=\"whitegrid\")\n",
    "ax = sns.violinplot(df_size_diameter.iloc[:,0], scale=\"count\")\n",
    "plt.figure()\n",
    "\n",
    "def concentration():\n",
    "    concentraton_particle_number =  (df_particles_mean1/trasnport)\n",
    "    return concentraton_particle_number\n",
    "print(concentration())\n",
    "    \n",
    "plt.figure()\n",
    "\n",
    "plt.show()"
   ]
  },
  {
   "cell_type": "code",
   "execution_count": 9,
   "metadata": {},
   "outputs": [
    {
     "name": "stdout",
     "output_type": "stream",
     "text": [
      "max    671.693157\n",
      "dtype: float64\n",
      "                max\n",
      "count  39074.000000\n",
      "mean      62.834204\n",
      "std       77.245930\n",
      "min       15.041728\n",
      "25%       30.073834\n",
      "50%       38.289444\n",
      "75%       49.233579\n",
      "max      641.822421\n"
     ]
    },
    {
     "name": "stderr",
     "output_type": "stream",
     "text": [
      "C:\\Users\\ta\\anaconda\\lib\\site-packages\\scipy\\stats\\stats.py:1713: FutureWarning: Using a non-tuple sequence for multidimensional indexing is deprecated; use `arr[tuple(seq)]` instead of `arr[seq]`. In the future this will be interpreted as an array index, `arr[np.array(seq)]`, which will result either in an error or a different result.\n",
      "  return np.add.reduce(sorted[indexer] * weights, axis=axis) / sumval\n"
     ]
    },
    {
     "name": "stdout",
     "output_type": "stream",
     "text": [
      "Au-ENP 60nm BBI Solution    1.080705e+08\n",
      "Zero_column(temp)                    inf\n",
      "dtype: float64\n"
     ]
    },
    {
     "data": {
      "image/png": "[encoded data removed]",
      "text/plain": [
       "<Figure size 432x288 with 1 Axes>"
      ]
     },
     "metadata": {},
     "output_type": "display_data"
    },
    {
     "data": {
      "text/plain": [
       "<Figure size 432x288 with 0 Axes>"
      ]
     },
     "metadata": {},
     "output_type": "display_data"
    },
    {
     "data": {
      "image/png": "[encoded data removed]",
      "text/plain": [
       "<Figure size 432x288 with 1 Axes>"
      ]
     },
     "metadata": {},
     "output_type": "display_data"
    },
    {
     "data": {
      "image/png": "[encoded data removed]",
      "text/plain": [
       "<Figure size 432x288 with 1 Axes>"
      ]
     },
     "metadata": {},
     "output_type": "display_data"
    },
    {
     "data": {
      "text/plain": [
       "<Figure size 432x288 with 0 Axes>"
      ]
     },
     "metadata": {},
     "output_type": "display_data"
    }
   ],
   "source": [
    "import pandas as pd \n",
    "import matplotlib.pyplot as plt\n",
    "import numpy as np\n",
    "import seaborn as sns\n",
    "from bokeh.io import output_notebook, show\n",
    "from bokeh.plotting import figure\n",
    "\n",
    "file = pd.read_excel(\"C:/Users/ta/Desktop/output_files/new_2018-12-12-soil-laser-ablation-AU_1.xlsx\")\n",
    "\n",
    "\n",
    "\n",
    "# response factor from calibration sheet\n",
    "response = 48467 # cps/(ug/L)\n",
    "\n",
    "#limit for particle detection\n",
    "limit = 4000\n",
    "\n",
    "# defines background based on cps limit set point \n",
    "def background():\n",
    "    background = file\n",
    "    \n",
    "    background = background[~(background >= limit)]\n",
    "    \n",
    "    df_mean = background.mean()\n",
    "    print(df_mean)\n",
    "    #print(background.describe())\n",
    "    \n",
    "    return background , df_mean\n",
    "\n",
    "df_background, df_mean = background()\n",
    "\n",
    "def particles():\n",
    "    particles = file.where(file >= limit)\n",
    "    particles_mean = particles.mean()\n",
    "    particles_mean1 = particles.iloc[:,0].mean()\n",
    "    #particles_mean2 = particles.iloc[:,1].mean()\n",
    "    #print(particles.describe(), particles_mean1)\n",
    "    \n",
    "    return particles, particles_mean1 , particles_mean\n",
    "\n",
    "    \n",
    "df_particles, df_particles_mean, df_particles_mean1 = particles()\n",
    "\n",
    "\n",
    "\n",
    "def particle_mass ():\n",
    "    y = df_particles_mean\n",
    "    molar_ratio = 1\n",
    "    #particle_mass = df_particles.apply(lambda x: x/y*(2.18))\n",
    "    particle_mass = df_particles.apply(lambda x: (x*dwell_time/1000/response)*(sample_flow*0.03*molar_ratio/60*1000000))\n",
    "    #print(particle_mass.describe())\n",
    "    return particle_mass\n",
    "df_particle_mass = particle_mass()\n",
    "\n",
    "\n",
    "mean = df_particles_mean \n",
    "def size_diameter():\n",
    "    x_1 = df_particle_mass\n",
    "    x_1 = x_1.apply(lambda x: ((6*x/1000000000000000/3.14/19.3)**0.333)*10000000)\n",
    "   \n",
    "    x_1.to_csv(\"C:/Users/ta/Desktop/treated_Siwafer/test2_size_out2.csv\")\n",
    "    \n",
    "    print(x_1.describe())\n",
    "    return x_1\n",
    "df_size_diameter = size_diameter()\n",
    "\n",
    "df_particles.hist(bins=100)\n",
    "plt.figure()\n",
    "\n",
    "df_size_diameter.hist(bins=100)\n",
    "plt.title(\"Particle Size \")\n",
    "plt.xlabel(\"Particle Size (nm)\")\n",
    "plt.ylabel(\"Frequency\")\n",
    "plt.figure()\n",
    "\n",
    "frequency = df_size_diameter.iloc[:,0].value_counts(bins= 10)\n",
    "\n",
    "\n",
    "sns.set(style=\"whitegrid\")\n",
    "ax = sns.violinplot(df_size_diameter.iloc[:,0], scale=\"count\")\n",
    "\n",
    "plt.figure\n",
    "\n",
    "def concentration():\n",
    "    concentraton_particle_number =  (df_particles_mean/trasnport)\n",
    "    return concentraton_particle_number\n",
    "print(concentration())\n",
    "    \n",
    "plt.figure()\n",
    "\n",
    "plt.show()\n",
    "\n"
   ]
  },
  {
   "cell_type": "code",
   "execution_count": null,
   "metadata": {},
   "outputs": [],
   "source": []
  }
 ],
 "metadata": {
  "kernelspec": {
   "display_name": "Python 3",
   "language": "python",
   "name": "python3"
  },
  "language_info": {
   "codemirror_mode": {
    "name": "ipython",
    "version": 3
   },
   "file_extension": ".py",
   "mimetype": "text/x-python",
   "name": "python",
   "nbconvert_exporter": "python",
   "pygments_lexer": "ipython3",
   "version": "3.7.1"
  }
 },
 "nbformat": 4,
 "nbformat_minor": 2
}
